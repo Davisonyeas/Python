{
 "cells": [
  {
   "cell_type": "markdown",
   "id": "f8bed419",
   "metadata": {},
   "source": [
    "# Getting Started With Python PyStart(Variables)"
   ]
  },
  {
   "cell_type": "markdown",
   "id": "7a1b3850",
   "metadata": {},
   "source": [
    "### 1.0 VARIABLES\n",
    "Variables are containers for storing data values. Python has no command for declaring variable. A variable is created the moment you assign a value to it.\n",
    "For example,"
   ]
  },
  {
   "cell_type": "code",
   "execution_count": 3,
   "id": "215ec871",
   "metadata": {},
   "outputs": [],
   "source": [
    "x = 4"
   ]
  },
  {
   "cell_type": "code",
   "execution_count": 4,
   "id": "0f6731e9",
   "metadata": {},
   "outputs": [],
   "source": [
    "y = \"Davis\""
   ]
  },
  {
   "cell_type": "markdown",
   "id": "0788ef37",
   "metadata": {},
   "source": [
    "To display the result of this, We make use of the print() built-in function;"
   ]
  },
  {
   "cell_type": "code",
   "execution_count": 5,
   "id": "07d75009",
   "metadata": {},
   "outputs": [
    {
     "name": "stdout",
     "output_type": "stream",
     "text": [
      "4\n"
     ]
    }
   ],
   "source": [
    "print(x)"
   ]
  },
  {
   "cell_type": "code",
   "execution_count": 6,
   "id": "e9353562",
   "metadata": {},
   "outputs": [
    {
     "name": "stdout",
     "output_type": "stream",
     "text": [
      "Davis\n"
     ]
    }
   ],
   "source": [
    "print(y)"
   ]
  },
  {
   "cell_type": "markdown",
   "id": "7130bf0d",
   "metadata": {},
   "source": [
    "**Note:**\n",
    "In Python, we do not have to say x = int 4; just as we have in other programming languages like Java, Python automatically detects the data type of the value)\n",
    "\n",
    "**Also,** when declaring variable names, we take note of keywords, there are some reserved keywords in python that shouldn't be used as a variable name, some of such keywords includes **return**, **is**, **continue**, **def**, **finally**, and a few other words. Read further on Python keywords https://docs.python.org/2.5/ref/keywords.html"
   ]
  },
  {
   "cell_type": "markdown",
   "id": "0376f256",
   "metadata": {},
   "source": [
    "### 1.1 Checking the data type of the variable\n",
    "It is important that we know how to check data types in Python, this is a basic concept that will come in handy when we get to more advanced topics like Data Preprocessing and Analysis. \n",
    "We check the type of our data by using the type() method.\n"
   ]
  },
  {
   "cell_type": "code",
   "execution_count": 8,
   "id": "e1654601",
   "metadata": {},
   "outputs": [
    {
     "name": "stdout",
     "output_type": "stream",
     "text": [
      "<class 'int'>\n"
     ]
    }
   ],
   "source": [
    "print(type(x))"
   ]
  },
  {
   "cell_type": "code",
   "execution_count": 9,
   "id": "9e1c3f30",
   "metadata": {},
   "outputs": [
    {
     "name": "stdout",
     "output_type": "stream",
     "text": [
      "<class 'str'>\n"
     ]
    }
   ],
   "source": [
    "print(type(y))"
   ]
  },
  {
   "cell_type": "markdown",
   "id": "d03599df",
   "metadata": {},
   "source": [
    "### 1.2 Python Variable Naming Rules\n",
    "The following are the some good, bad and different naming conventions. \n",
    "The Good shows some good naming conventions that can be used and that is accepted by developers.\n",
    "The Bad shows some bad practices that shouldn't be used while coding. \n",
    "The Different shows that each individual variable is independent of the others, they all have the same spelling but the fact that some are capital letters and some aren't. They are all different.\n",
    "\n",
    "```\n",
    "Good: spam  eggs  spam23  _speed\n",
    "```\n",
    "\n",
    "```\n",
    "Bad: 23spam  #sign   var.12\n",
    "```\n",
    "\n",
    "```\n",
    "Different: spam   Spam   SPAM\n",
    "```\n"
   ]
  },
  {
   "cell_type": "markdown",
   "id": "83630697",
   "metadata": {},
   "source": [
    "### EXERCISES"
   ]
  },
  {
   "cell_type": "markdown",
   "id": "971716d3",
   "metadata": {},
   "source": [
    "1. Create variable named student and assign the your first name as value to it. (Hint: string value has to be in a quotation mark, For example: student = \"Davis\")"
   ]
  },
  {
   "cell_type": "code",
   "execution_count": null,
   "id": "b780e217",
   "metadata": {},
   "outputs": [],
   "source": []
  },
  {
   "cell_type": "markdown",
   "id": "29f3160f",
   "metadata": {},
   "source": [
    "2. Create variable named age and assign an age of type int to it. (Hint: age is of integer type and doesn't have quotation marks, For example: age = 30)"
   ]
  },
  {
   "cell_type": "code",
   "execution_count": null,
   "id": "decf7870",
   "metadata": {},
   "outputs": [],
   "source": []
  }
 ],
 "metadata": {
  "kernelspec": {
   "display_name": "Python 3 (ipykernel)",
   "language": "python",
   "name": "python3"
  },
  "language_info": {
   "codemirror_mode": {
    "name": "ipython",
    "version": 3
   },
   "file_extension": ".py",
   "mimetype": "text/x-python",
   "name": "python",
   "nbconvert_exporter": "python",
   "pygments_lexer": "ipython3",
   "version": "3.9.7"
  }
 },
 "nbformat": 4,
 "nbformat_minor": 5
}
